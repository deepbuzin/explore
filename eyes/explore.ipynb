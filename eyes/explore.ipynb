{
 "cells": [
  {
   "cell_type": "code",
   "execution_count": 2,
   "metadata": {
    "collapsed": true,
    "pycharm": {
     "is_executing": false
    }
   },
   "outputs": [],
   "source": [
    "import torch\n",
    "from torch import nn\n",
    "from torch.utils.data import DataLoader, Dataset\n",
    "from torchvision.io import read_image\n",
    "from torchvision.transforms import Lambda\n",
    "\n",
    "import numpy as np\n",
    "from matplotlib import pyplot as plt\n",
    "from sklearn.cluster import KMeans\n",
    "\n",
    "import pickle\n",
    "from pathlib import Path\n"
   ]
  },
  {
   "cell_type": "markdown",
   "source": [
    "Это автоэнкодер, а именно класс датасета, трехслойный сверточный энкодер и симметричный декодер.\n",
    "С размером входных данных 24*24 получается 36-мерный эмбеддинг."
   ],
   "metadata": {
    "collapsed": false,
    "pycharm": {
     "name": "#%% md\n"
    }
   }
  },
  {
   "cell_type": "code",
   "execution_count": 3,
   "outputs": [],
   "source": [
    "class EyeDataset(Dataset):\n",
    "    def __init__(self, img_dir: Path, transform=None):\n",
    "        self.img_dir = img_dir\n",
    "        self.transform = transform\n",
    "        \n",
    "        self.img_list = list(img_dir.glob('*.jpg'))\n",
    "\n",
    "    def __len__(self):\n",
    "        return len(self.img_list)\n",
    "\n",
    "    def __getitem__(self, idx):\n",
    "        img_path = self.img_list[idx]\n",
    "        img = read_image(img_path.as_posix())\n",
    "        if self.transform:\n",
    "            img = self.transform(img)\n",
    "        return img\n",
    "    "
   ],
   "metadata": {
    "collapsed": false,
    "pycharm": {
     "name": "#%%\n",
     "is_executing": false
    }
   }
  },
  {
   "cell_type": "code",
   "execution_count": 4,
   "outputs": [],
   "source": [
    "class EyeEncoder(nn.Module):\n",
    "    def __init__(self):\n",
    "        super(EyeEncoder, self).__init__()\n",
    "        \n",
    "        self.encoder = nn.Sequential(\n",
    "            nn.Conv2d(1, 128, (7, 7), padding='same'),  # 128 x 24 x 24\n",
    "            nn.ReLU(),\n",
    "            nn.BatchNorm2d(128),\n",
    "            nn.MaxPool2d((2, 2)),                       # 128 x 12 x 12\n",
    "            nn.Conv2d(128, 32, (3, 3), padding='same'), \n",
    "            nn.ReLU(),\n",
    "            nn.BatchNorm2d(32),\n",
    "            nn.MaxPool2d((2, 2)),                       # 32 x 6 x 6\n",
    "            nn.Conv2d(32, 1, (7, 7), padding='same'),   # 1 x 6 x 6\n",
    "            nn.BatchNorm2d(1),\n",
    "        )\n",
    "\n",
    "    def forward(self, x):\n",
    "        x = self.encoder(x)\n",
    "        return x\n",
    "    \n",
    "\n",
    "class EyeDecoder(nn.Module):\n",
    "    def __init__(self):\n",
    "        super(EyeDecoder, self).__init__()\n",
    "        \n",
    "        self.decoder = nn.Sequential(\n",
    "            nn.ConvTranspose2d(1, 32, (7, 7), padding=(3, 3)),\n",
    "            nn.ReLU(),\n",
    "            nn.Upsample(scale_factor=2),\n",
    "            nn.ConvTranspose2d(32, 128, (3, 3), padding=(1, 1)),\n",
    "            nn.ReLU(),\n",
    "            nn.Upsample(scale_factor=2),\n",
    "            nn.ConvTranspose2d(128, 1, (7, 7), padding=(3, 3)),\n",
    "            nn.Sigmoid()\n",
    "        )\n",
    "        \n",
    "# torch.Size([64, 32, 6, 6])\n",
    "# torch.Size([64, 32, 6, 6])\n",
    "# torch.Size([64, 32, 12, 12])\n",
    "# torch.Size([64, 128, 12, 12])\n",
    "# torch.Size([64, 128, 12, 12])\n",
    "# torch.Size([64, 128, 24, 24])\n",
    "# torch.Size([64, 1, 24, 24])\n",
    "# torch.Size([64, 1, 24, 24])\n",
    "\n",
    "    def forward(self, x):\n",
    "        x = self.decoder(x)\n",
    "        return x\n",
    "    \n",
    "    \n",
    "class EyeAutoencoder(nn.Module):\n",
    "    def __init__(self):\n",
    "        super(EyeAutoencoder, self).__init__()\n",
    "        self.encoder = EyeEncoder()\n",
    "        self.decoder = EyeDecoder()\n",
    "\n",
    "    def forward(self, x):\n",
    "        x = self.encoder(x)\n",
    "        x = self.decoder(x)\n",
    "        return x"
   ],
   "metadata": {
    "collapsed": false,
    "pycharm": {
     "name": "#%%\n",
     "is_executing": false
    }
   }
  },
  {
   "cell_type": "code",
   "execution_count": 5,
   "outputs": [],
   "source": [
    "def train(dataloader, model, loss_fn, optimizer):\n",
    "    size = len(dataloader.dataset)\n",
    "    for batch, x, in enumerate(dataloader):\n",
    "        x_in = x.to(device)\n",
    "\n",
    "        x_out = model(x_in)\n",
    "        loss = loss_fn(x_out, x_in)\n",
    "\n",
    "        optimizer.zero_grad()\n",
    "        loss.backward()\n",
    "        optimizer.step()\n",
    "\n",
    "        if batch % 100 == 0:\n",
    "            loss, current = loss.item(), batch * len(x)\n",
    "            print(f\"loss: {loss:>7f}  [{current:>5d}/{size:>5d}]\")"
   ],
   "metadata": {
    "collapsed": false,
    "pycharm": {
     "name": "#%%\n",
     "is_executing": false
    }
   }
  },
  {
   "cell_type": "markdown",
   "source": [
    "В качестве лосс-функции используется бинарная кросс-энтропия.\n",
    "Для оптимизации взят Adam с learning rate 10^-3."
   ],
   "metadata": {
    "collapsed": false,
    "pycharm": {
     "name": "#%% md\n",
     "is_executing": false
    }
   }
  },
  {
   "cell_type": "code",
   "execution_count": 6,
   "outputs": [
    {
     "name": "stdout",
     "text": [
      "Using cuda device\n",
      "EyeAutoencoder(\n",
      "  (encoder): EyeEncoder(\n",
      "    (encoder): Sequential(\n",
      "      (0): Conv2d(1, 128, kernel_size=(7, 7), stride=(1, 1), padding=same)\n",
      "      (1): ReLU()\n",
      "      (2): BatchNorm2d(128, eps=1e-05, momentum=0.1, affine=True, track_running_stats=True)\n",
      "      (3): MaxPool2d(kernel_size=(2, 2), stride=(2, 2), padding=0, dilation=1, ceil_mode=False)\n",
      "      (4): Conv2d(128, 32, kernel_size=(3, 3), stride=(1, 1), padding=same)\n",
      "      (5): ReLU()\n",
      "      (6): BatchNorm2d(32, eps=1e-05, momentum=0.1, affine=True, track_running_stats=True)\n",
      "      (7): MaxPool2d(kernel_size=(2, 2), stride=(2, 2), padding=0, dilation=1, ceil_mode=False)\n",
      "      (8): Conv2d(32, 1, kernel_size=(7, 7), stride=(1, 1), padding=same)\n",
      "      (9): BatchNorm2d(1, eps=1e-05, momentum=0.1, affine=True, track_running_stats=True)\n",
      "    )\n",
      "  )\n",
      "  (decoder): EyeDecoder(\n",
      "    (decoder): Sequential(\n",
      "      (0): ConvTranspose2d(1, 32, kernel_size=(7, 7), stride=(1, 1), padding=(3, 3))\n",
      "      (1): ReLU()\n",
      "      (2): Upsample(scale_factor=2.0, mode=nearest)\n",
      "      (3): ConvTranspose2d(32, 128, kernel_size=(3, 3), stride=(1, 1), padding=(1, 1))\n",
      "      (4): ReLU()\n",
      "      (5): Upsample(scale_factor=2.0, mode=nearest)\n",
      "      (6): ConvTranspose2d(128, 1, kernel_size=(7, 7), stride=(1, 1), padding=(3, 3))\n",
      "      (7): Sigmoid()\n",
      "    )\n",
      "  )\n",
      ")\n"
     ],
     "output_type": "stream"
    }
   ],
   "source": [
    "def div_by_255(x):\n",
    "    return x / 255.\n",
    "\n",
    "img_dir = Path('data')\n",
    "train_dataset = EyeDataset(img_dir, transform=Lambda(lambda x: div_by_255(x)))\n",
    "train_dataloader = DataLoader(train_dataset, batch_size=1024)\n",
    "\n",
    "\n",
    "\n",
    "device = 'cuda' if torch.cuda.is_available() else 'cpu'\n",
    "print('Using {} device'.format(device))\n",
    "model = EyeAutoencoder().to(device)\n",
    "print(model)\n",
    "\n",
    "loss_fn = nn.BCELoss()\n",
    "optimizer = torch.optim.Adam(model.parameters(), lr=1e-3)"
   ],
   "metadata": {
    "collapsed": false,
    "pycharm": {
     "name": "#%%\n",
     "is_executing": false
    }
   }
  },
  {
   "cell_type": "code",
   "execution_count": null,
   "outputs": [
    {
     "name": "stdout",
     "text": [
      "Epoch 1\n",
      "-------------------------------\n",
      "loss: 0.691971  [    0/ 3600]\n",
      "Epoch 2\n",
      "-------------------------------\n",
      "loss: 0.643092  [    0/ 3600]\n",
      "Epoch 3\n",
      "-------------------------------\n",
      "loss: 0.636139  [    0/ 3600]\n",
      "Epoch 4\n",
      "-------------------------------\n",
      "loss: 0.632821  [    0/ 3600]\n",
      "Epoch 5\n",
      "-------------------------------\n",
      "loss: 0.629422  [    0/ 3600]\n",
      "Epoch 6\n",
      "-------------------------------\n",
      "loss: 0.626886  [    0/ 3600]\n",
      "Epoch 7\n",
      "-------------------------------\n",
      "loss: 0.625001  [    0/ 3600]\n",
      "Epoch 8\n",
      "-------------------------------\n",
      "loss: 0.623158  [    0/ 3600]\n",
      "Epoch 9\n",
      "-------------------------------\n",
      "loss: 0.621780  [    0/ 3600]\n",
      "Epoch 10\n",
      "-------------------------------\n",
      "loss: 0.620564  [    0/ 3600]\n",
      "Epoch 11\n",
      "-------------------------------\n",
      "loss: 0.619608  [    0/ 3600]\n",
      "Epoch 12\n",
      "-------------------------------\n",
      "loss: 0.618815  [    0/ 3600]\n",
      "Epoch 13\n",
      "-------------------------------\n",
      "loss: 0.618127  [    0/ 3600]\n",
      "Epoch 14\n",
      "-------------------------------\n",
      "loss: 0.617564  [    0/ 3600]\n",
      "Epoch 15\n",
      "-------------------------------\n",
      "loss: 0.617061  [    0/ 3600]\n",
      "Epoch 16\n",
      "-------------------------------\n",
      "loss: 0.616610  [    0/ 3600]\n",
      "Epoch 17\n",
      "-------------------------------\n",
      "loss: 0.616271  [    0/ 3600]\n",
      "Epoch 18\n",
      "-------------------------------\n",
      "loss: 0.615945  [    0/ 3600]\n",
      "Epoch 19\n",
      "-------------------------------\n",
      "loss: 0.615644  [    0/ 3600]\n",
      "Epoch 20\n",
      "-------------------------------\n",
      "loss: 0.615366  [    0/ 3600]\n",
      "Epoch 21\n",
      "-------------------------------\n",
      "loss: 0.615115  [    0/ 3600]\n",
      "Epoch 22\n",
      "-------------------------------\n",
      "loss: 0.614882  [    0/ 3600]\n",
      "Epoch 23\n",
      "-------------------------------\n",
      "loss: 0.614644  [    0/ 3600]\n",
      "Epoch 24\n",
      "-------------------------------\n",
      "loss: 0.614428  [    0/ 3600]\n",
      "Epoch 25\n",
      "-------------------------------\n",
      "loss: 0.614232  [    0/ 3600]\n",
      "Epoch 26\n",
      "-------------------------------\n",
      "loss: 0.614055  [    0/ 3600]\n",
      "Epoch 27\n",
      "-------------------------------\n",
      "loss: 0.613897  [    0/ 3600]\n",
      "Epoch 28\n",
      "-------------------------------\n",
      "loss: 0.613752  [    0/ 3600]\n",
      "Epoch 29\n",
      "-------------------------------\n",
      "loss: 0.613629  [    0/ 3600]\n",
      "Epoch 30\n",
      "-------------------------------\n",
      "loss: 0.613510  [    0/ 3600]\n",
      "Epoch 31\n",
      "-------------------------------\n",
      "loss: 0.613401  [    0/ 3600]\n",
      "Epoch 32\n",
      "-------------------------------\n",
      "loss: 0.613295  [    0/ 3600]\n",
      "Epoch 33\n",
      "-------------------------------\n",
      "loss: 0.613200  [    0/ 3600]\n",
      "Epoch 34\n",
      "-------------------------------\n",
      "loss: 0.613111  [    0/ 3600]\n",
      "Epoch 35\n",
      "-------------------------------\n",
      "loss: 0.613031  [    0/ 3600]\n",
      "Epoch 36\n",
      "-------------------------------\n",
      "loss: 0.612957  [    0/ 3600]\n",
      "Epoch 37\n",
      "-------------------------------\n",
      "loss: 0.612890  [    0/ 3600]\n",
      "Epoch 38\n",
      "-------------------------------\n",
      "loss: 0.612828  [    0/ 3600]\n"
     ],
     "output_type": "stream"
    },
    {
     "name": "stderr",
     "text": [
      "/home/buzin@ad.speechpro.com/anaconda3/envs/py38/lib/python3.8/site-packages/torch/nn/functional.py:718: UserWarning: Named tensors and all their associated APIs are an experimental feature and subject to change. Please do not use them for anything important until they are released as stable. (Triggered internally at  /opt/conda/conda-bld/pytorch_1623448234945/work/c10/core/TensorImpl.h:1156.)\n",
      "  return torch.max_pool2d(input, kernel_size, stride, padding, dilation, ceil_mode)\n"
     ],
     "output_type": "stream"
    }
   ],
   "source": [
    "epochs = 150\n",
    "for t in range(epochs):\n",
    "    print(f\"Epoch {t+1}\\n-------------------------------\")\n",
    "    train(train_dataloader, model, loss_fn, optimizer)"
   ],
   "metadata": {
    "collapsed": false,
    "pycharm": {
     "name": "#%%\n",
     "is_executing": true
    }
   }
  },
  {
   "cell_type": "markdown",
   "source": [
    "Небольшая визуализация, чтобы убедиться, что автоэнкодер адекватно автоэнкодит:"
   ],
   "metadata": {
    "collapsed": false,
    "pycharm": {
     "name": "#%% md\n",
     "is_executing": false
    }
   }
  },
  {
   "cell_type": "code",
   "execution_count": null,
   "outputs": [],
   "source": [
    "img = train_dataset[3]\n",
    "\n",
    "img_in = img.detach().cpu().numpy()\n",
    "img_in = (img_in * 255).astype(np.uint8)\n",
    "img_in = np.transpose(img_in, (1, 2, 0))\n",
    "plt.imshow(img_in)"
   ],
   "metadata": {
    "collapsed": false,
    "pycharm": {
     "name": "#%%\n",
     "is_executing": true
    }
   }
  },
  {
   "cell_type": "code",
   "execution_count": 8,
   "outputs": [
    {
     "data": {
      "text/plain": "<matplotlib.image.AxesImage at 0x7f3565f53dc0>"
     },
     "metadata": {},
     "output_type": "execute_result",
     "execution_count": 8
    },
    {
     "data": {
      "text/plain": "<Figure size 432x288 with 1 Axes>",
      "image/png": "[encoded data removed]"
     },
     "metadata": {
      "needs_background": "light"
     },
     "output_type": "display_data"
    }
   ],
   "source": [
    "img_out = model(torch.unsqueeze(img, 0).to(device))\n",
    "img_out = img_out.detach().cpu().squeeze(0).numpy()\n",
    "img_out = (img_out * 255).astype(np.uint8)\n",
    "img_out = np.transpose(img_out, (1, 2, 0))\n",
    "plt.imshow(img_out)"
   ],
   "metadata": {
    "collapsed": false,
    "pycharm": {
     "name": "#%%\n",
     "is_executing": false
    }
   }
  },
  {
   "cell_type": "markdown",
   "source": [
    "Используем полученный энкодер, чтобы расчитать эмбеддинги для всего train сета:"
   ],
   "metadata": {
    "collapsed": false,
    "pycharm": {
     "name": "#%% md\n",
     "is_executing": false
    }
   }
  },
  {
   "cell_type": "code",
   "execution_count": 9,
   "outputs": [],
   "source": [
    "infer_dataloader = DataLoader(train_dataset, batch_size=128)\n",
    "\n",
    "embs = []\n",
    "\n",
    "for x in infer_dataloader:\n",
    "    x = x.to(device)\n",
    "    x_emb = model.encoder(x)\n",
    "    x_emb = torch.flatten(x_emb, start_dim=1)\n",
    "    embs.append(x_emb.detach().cpu().numpy())\n",
    "    \n",
    "embs = np.concatenate(embs, axis=0)\n",
    "    "
   ],
   "metadata": {
    "collapsed": false,
    "pycharm": {
     "name": "#%%\n",
     "is_executing": false
    }
   }
  },
  {
   "cell_type": "markdown",
   "source": [
    "Кластеризуем эмбеддинги с помощью kmeans:"
   ],
   "metadata": {
    "collapsed": false,
    "pycharm": {
     "name": "#%% md\n",
     "is_executing": false
    }
   }
  },
  {
   "cell_type": "code",
   "execution_count": 16,
   "outputs": [],
   "source": [
    "clustering = KMeans(init=\"k-means++\", n_clusters=2, n_init=100, random_state=0)\n",
    "clustering.fit(embs)\n",
    "labels = clustering.predict(embs)"
   ],
   "metadata": {
    "collapsed": false,
    "pycharm": {
     "name": "#%%\n",
     "is_executing": false
    }
   }
  },
  {
   "cell_type": "code",
   "execution_count": 17,
   "outputs": [],
   "source": [
    "out_path = Path('train_result.csv')\n",
    "\n",
    "with out_path.open('w') as f:\n",
    "    for label, img_path in zip(labels, train_dataset.img_list):\n",
    "        f.write(f'{img_path},{label}\\n')\n",
    "        "
   ],
   "metadata": {
    "collapsed": false,
    "pycharm": {
     "name": "#%%\n",
     "is_executing": false
    }
   }
  },
  {
   "cell_type": "code",
   "execution_count": 18,
   "outputs": [
    {
     "name": "stdout",
     "text": [
      "1\n"
     ],
     "output_type": "stream"
    },
    {
     "data": {
      "text/plain": "<matplotlib.image.AxesImage at 0x7f35655c8310>"
     },
     "metadata": {},
     "output_type": "execute_result",
     "execution_count": 18
    },
    {
     "data": {
      "text/plain": "<Figure size 432x288 with 1 Axes>",
      "image/png": "[encoded data removed]"
     },
     "metadata": {
      "needs_background": "light"
     },
     "output_type": "display_data"
    }
   ],
   "source": [
    "idx = 18\n",
    "\n",
    "print(labels[idx])\n",
    "\n",
    "img = train_dataset[idx]\n",
    "img = img.detach().cpu().numpy()\n",
    "img = (img * 255).astype(np.uint8)\n",
    "img = np.transpose(img, (1, 2, 0))\n",
    "plt.imshow(img)"
   ],
   "metadata": {
    "collapsed": false,
    "pycharm": {
     "name": "#%%\n",
     "is_executing": false
    }
   }
  },
  {
   "cell_type": "markdown",
   "source": [
    "Экспортируем модели и кластеризатор, чтобы использовать их в inference.py"
   ],
   "metadata": {
    "collapsed": false,
    "pycharm": {
     "name": "#%% md\n",
     "is_executing": false
    }
   }
  },
  {
   "cell_type": "code",
   "execution_count": null,
   "outputs": [],
   "source": [
    "out_dir = Path('params')\n",
    "out_dir.mkdir(parents=True, exist_ok=True)\n",
    "\n",
    "torch.save(model.encoder.state_dict(), out_dir.joinpath(Path('encoder.pth')))\n",
    "torch.save(model.decoder.state_dict(), out_dir.joinpath(Path('decoder.pth')))\n",
    "\n",
    "with out_dir.joinpath(Path('clustering.pkl')).open('wb') as f:\n",
    "    pickle.dump(clustering, f, protocol=pickle.HIGHEST_PROTOCOL)\n"
   ],
   "metadata": {
    "collapsed": false,
    "pycharm": {
     "name": "#%%\n"
    }
   }
  },
  {
   "cell_type": "code",
   "execution_count": null,
   "outputs": [],
   "source": [],
   "metadata": {
    "collapsed": false,
    "pycharm": {
     "name": "#%%\n"
    }
   }
  }
 ],
 "metadata": {
  "kernelspec": {
   "display_name": "Python 3",
   "language": "python",
   "name": "python3"
  },
  "language_info": {
   "codemirror_mode": {
    "name": "ipython",
    "version": 2
   },
   "file_extension": ".py",
   "mimetype": "text/x-python",
   "name": "python",
   "nbconvert_exporter": "python",
   "pygments_lexer": "ipython2",
   "version": "2.7.6"
  },
  "pycharm": {
   "stem_cell": {
    "cell_type": "raw",
    "source": [],
    "metadata": {
     "collapsed": false
    }
   }
  }
 },
 "nbformat": 4,
 "nbformat_minor": 0
}